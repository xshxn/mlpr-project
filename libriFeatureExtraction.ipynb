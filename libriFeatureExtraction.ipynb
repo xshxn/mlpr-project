{
 "cells": [
  {
   "cell_type": "code",
   "execution_count": null,
   "id": "ee48d137",
   "metadata": {},
   "outputs": [],
   "source": [
    "import torch \n",
    "import torchaudio\n",
    "import os\n",
    "import pandas as pd\n",
    "import tqdm \n",
    "from transformers import Wav2Vec2Model, Wav2Vec2FeatureExtractor"
   ]
  },
  {
   "cell_type": "code",
   "execution_count": null,
   "id": "2456bf8f",
   "metadata": {},
   "outputs": [],
   "source": [
    "MANIFEST = \"/kaggle/input/libri-manifest/librispeech_manifest (1).csv\"\n",
    "DEVICE      = \"cuda\" if torch.cuda.is_available() else \"cpu\"\n",
    "MODEL_NAME  = \"facebook/wav2vec2-large-960h\"\n",
    "FEATURE_DIR = \"/kaggle/working/wav2vec_features\"\n",
    "os.makedirs(FEATURE_DIR, exist_ok=True)"
   ]
  },
  {
   "cell_type": "code",
   "execution_count": null,
   "id": "c7960622",
   "metadata": {},
   "outputs": [],
   "source": [
    "extractor = Wav2Vec2FeatureExtractor.from_pretrained(MODEL_NAME)\n",
    "model     = Wav2Vec2Model.from_pretrained(MODEL_NAME).to(DEVICE).eval()\n",
    "\n",
    "df = pd.read_csv(MANIFEST)\n",
    "df = df.iloc[:8500].copy()\n",
    "feature_paths = []\n",
    "\n",
    "for _, row in tqdm.tqdm(df.iterrows(), total=len(df), desc=\"Extracting\"):\n",
    "    wav_path = row[\"audio_path\"]\n",
    "    wav, sr  = torchaudio.load(wav_path)\n",
    "    if wav.shape[0] > 1:           \n",
    "        wav = wav.mean(dim=0, keepdim=True)\n",
    "    if sr != 16000:\n",
    "        wav = torchaudio.functional.resample(wav, sr, 16000)\n",
    "\n",
    "    inputs = extractor(\n",
    "        wav.squeeze().numpy(), sampling_rate=16000,\n",
    "        return_tensors=\"pt\").to(DEVICE)\n",
    "\n",
    "    with torch.no_grad():\n",
    "        h = model(**inputs).last_hidden_state.cpu()\n",
    "\n",
    "    out_path = os.path.join(\n",
    "        FEATURE_DIR,\n",
    "        f\"{row.speaker_id}-{row.chapter_id}-{row.utterance_id}.pt\")\n",
    "    torch.save(h, out_path)\n",
    "    feature_paths.append(out_path)\n",
    "\n",
    "df[\"feature_path\"] = feature_paths\n",
    "df.to_csv(\"/kaggle/working/librispeech_manifest_with_feats.csv\", index=False)\n",
    "print(\"Features saved\")"
   ]
  }
 ],
 "metadata": {
  "language_info": {
   "name": "python"
  }
 },
 "nbformat": 4,
 "nbformat_minor": 5
}
